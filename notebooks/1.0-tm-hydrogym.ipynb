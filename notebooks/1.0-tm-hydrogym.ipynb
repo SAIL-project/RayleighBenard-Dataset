{
 "cells": [
  {
   "cell_type": "code",
   "execution_count": 23,
   "metadata": {},
   "outputs": [
    {
     "name": "stdout",
     "output_type": "stream",
     "text": [
      "The autoreload extension is already loaded. To reload it, use:\n",
      "  %reload_ext autoreload\n"
     ]
    }
   ],
   "source": [
    "%load_ext autoreload\n",
    "%autoreload 2"
   ]
  },
  {
   "cell_type": "code",
   "execution_count": 24,
   "metadata": {},
   "outputs": [],
   "source": [
    "from pathlib import Path\n",
    "import rootutils\n",
    "rootutils.setup_root(Path.cwd(), indicator=\"pyproject.toml\", pythonpath=True)"
   ]
  },
  {
   "cell_type": "code",
   "execution_count": null,
   "metadata": {},
   "outputs": [],
   "source": [
    "import firedrake as fd\n",
    "import firedrake_adjoint as fda\n",
    "import matplotlib as mpl\n",
    "import matplotlib.pyplot as plt\n",
    "import numpy as np\n",
    "import seaborn as sns\n",
    "from ufl import dx, inner\n",
    "\n",
    "import hydrogym.firedrake as hgym\n",
    "\n",
    "mpl.rc(\"text\", usetex=False)\n",
    "mpl.rc(\"font\", family=\"serif\")\n",
    "mpl.rc(\"xtick\", labelsize=14)\n",
    "mpl.rc(\"ytick\", labelsize=14)\n",
    "mpl.rc(\"axes\", labelsize=20)\n",
    "mpl.rc(\"axes\", titlesize=20)\n",
    "mpl.rc(\"figure\", figsize=(6, 4))\n",
    "%config InlineBackend.figure_format = 'retina'\n",
    "\n",
    "precomputed_data = \"../examples/demo\""
   ]
  },
  {
   "cell_type": "code",
   "execution_count": null,
   "metadata": {},
   "outputs": [],
   "source": [
    "env_config = {\n",
    "    \"flow\": hgym.Cylinder,\n",
    "    # \"flow_config\": {\n",
    "    #     \"restart\": f\"{precomputed_data}/checkpoint.h5\",\n",
    "    # },\n",
    "    \"solver\": hgym.IPCS,\n",
    "}\n",
    "env = hgym.FlowEnv(env_config)"
   ]
  },
  {
   "cell_type": "code",
   "execution_count": null,
   "metadata": {},
   "outputs": [],
   "source": [
    "fig, ax = plt.subplots(1, 1, figsize=(6, 3))\n",
    "env.render(axes=ax)\n",
    "plt.show()"
   ]
  }
 ],
 "metadata": {
  "kernelspec": {
   "display_name": "rbcmodel",
   "language": "python",
   "name": "python3"
  },
  "language_info": {
   "codemirror_mode": {
    "name": "ipython",
    "version": 3
   },
   "file_extension": ".py",
   "mimetype": "text/x-python",
   "name": "python",
   "nbconvert_exporter": "python",
   "pygments_lexer": "ipython3",
   "version": "3.11.7"
  }
 },
 "nbformat": 4,
 "nbformat_minor": 2
}
